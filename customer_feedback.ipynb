{
 "cells": [
  {
   "cell_type": "code",
   "execution_count": 43,
   "metadata": {},
   "outputs": [],
   "source": [
    "import pandas as pd\n",
    "import numpy as np\n",
    "from scipy import stats"
   ]
  },
  {
   "cell_type": "code",
   "execution_count": 167,
   "metadata": {},
   "outputs": [],
   "source": [
    "def feedback_analysis(df_feedback):\n",
    "    #used paired t test\n",
    "    ios = df_feedback['product'] == 'iOS'\n",
    "    andriod = df_feedback['product'] == 'Android'\n",
    "    condition_ios = df_feedback.loc[ios, 'feedback_score'].to_numpy()\n",
    "    condition_andriod = df_feedback.loc[andriod, 'feedback_score'].to_numpy()\n",
    "    np_array = np.array([condition_ios, condition_andriod])\n",
    "    t_statistic, p_value = stats.ttest_rel(np_array[0], np_array[1])\n",
    "    if p_value > 0.05:\n",
    "        difference = 'NO'\n",
    "    else : difference = 'YES'\n",
    "    return difference, p_value"
   ]
  },
  {
   "cell_type": "code",
   "execution_count": 171,
   "metadata": {},
   "outputs": [],
   "source": [
    "def sales_analysis(df_sales):\n",
    "    #use one-tailed t test\n",
    "    before = df_sales['date'] < '2023-03-01'\n",
    "    after = df_sales['date'] > '2023-03-31'\n",
    "    condition_before = df_sales.loc[before, 'sales'].to_numpy()\n",
    "    condition_after = df_sales.loc[after, 'sales'].to_numpy()\n",
    "    t_statistic, p_value = stats.ttest_ind(condition_before, condition_after, equal_var = False)\n",
    "    if t_statistic > 0:\n",
    "        p_value /= 2\n",
    "    if p_value > 0.05:\n",
    "        difference = 'NO'\n",
    "    else : difference = 'YES'\n",
    "    return difference, p_value"
   ]
  },
  {
   "cell_type": "code",
   "execution_count": 173,
   "metadata": {},
   "outputs": [],
   "source": [
    "def seasonal_analysis(df_sales):\n",
    "    #two-tailed t test\n",
    "    summer = [6, 7, 8]\n",
    "    winter = [12,1,2]\n",
    "    summer_sales = df_sales['date'].dt.month.isin(summer)\n",
    "    winter_sales = df_sales['date'].dt.month.isin(winter)\n",
    "\n",
    "    condition_winter = df_sales.loc[winter_sales, 'sales'].to_numpy()\n",
    "    condition_summer = df_sales.loc[summer_sales, 'sales'].to_numpy()\n",
    "    t_statistic, p_value = stats.ttest_ind(condition_winter, condition_summer, equal_var = False)\n",
    "    if p_value > 0.05:\n",
    "        difference = 'NO'\n",
    "    else : difference = 'YES'\n",
    "    return difference, p_value"
   ]
  },
  {
   "cell_type": "code",
   "execution_count": null,
   "metadata": {},
   "outputs": [],
   "source": []
  },
  {
   "cell_type": "code",
   "execution_count": 175,
   "metadata": {},
   "outputs": [],
   "source": [
    "def consistency_analysis(df_feedback):\n",
    "    #Use 1-way anova\n",
    "    jan = df_feedback.date.dt.month == 1\n",
    "    may = df_feedback.date.dt.month == 5\n",
    "    sept = df_feedback.date.dt.month == 9\n",
    "    dec = df_feedback.date.dt.month == 12\n",
    "\n",
    "    f_stat, p_value = stats.f_oneway(jan, may, sept, dec)\n",
    "    if p_value > 0.05:\n",
    "        consistency = 'YES'\n",
    "    else : consistency = 'NO'\n",
    "    return consistency, p_value"
   ]
  },
  {
   "cell_type": "code",
   "execution_count": 177,
   "metadata": {},
   "outputs": [],
   "source": [
    "def corr_analysis(df_feedback, df_sales):\n",
    "    #use one-way t test\n",
    "    df = pd.merge(left = df_feedback, right = df_sales, on = ['date', 'product'])\n",
    "    grouped_ = [df[df.date.dt.month == month] for month in [1,2,3,4,5,6,7,8,9,10,11,12]]\n",
    "    grouped_ = df.groupby(df.date.dt.month)['feedback_score'].agg(list)\n",
    "    grouped_ = df.groupby(df.date.dt.month)['feedback_score'].mean().sort_values()\n",
    "\n",
    "    low_scores = grouped_[0:6]\n",
    "    low_scores = low_scores.index\n",
    "    high_scores = grouped_[6:12]\n",
    "    high_scores = high_scores.index\n",
    "    \n",
    "    high_scores_df = df['date'].dt.month.isin(high_scores)\n",
    "    low_scores_df = df['date'].dt.month.isin(low_scores)\n",
    "\n",
    "    condition_high = df.loc[high_scores_df, 'sales'].to_numpy()\n",
    "    condition_low = df.loc[low_scores_df, 'sales'].to_numpy()\n",
    "    t_statistic, p_value = stats.ttest_ind(condition_high, condition_low, equal_var = False)\n",
    "    if t_statistic > 0:\n",
    "        p_value /= 2\n",
    "    if p_value > 0.05:\n",
    "        corr = 'NO'\n",
    "    else : corr = 'YES'\n",
    "    return corr, p_value"
   ]
  },
  {
   "cell_type": "code",
   "execution_count": 56,
   "metadata": {},
   "outputs": [],
   "source": [
    "df_cf = pd.read_csv(\"customer_feedback.csv\")\n",
    "df_sd = pd.read_csv(\"sales_data.csv\")\n",
    "df_sd.date= pd.to_datetime(df_sd.date)\n",
    "df_cf.date= pd.to_datetime(df_cf.date)"
   ]
  },
  {
   "cell_type": "code",
   "execution_count": 178,
   "metadata": {},
   "outputs": [],
   "source": [
    "difference, p_value = feedback_analysis(df_cf)\n",
    "difference, p_value = sales_analysis(df_sd)\n",
    "difference, p_value = seasonal_analysis(df_sd)\n",
    "consistency, p_value = consistency_analysis(df_cf)\n",
    "corr, p_value = corr_analysis(df_cf, df_sd)"
   ]
  }
 ],
 "metadata": {
  "kernelspec": {
   "display_name": "venv",
   "language": "python",
   "name": "python3"
  },
  "language_info": {
   "codemirror_mode": {
    "name": "ipython",
    "version": 3
   },
   "file_extension": ".py",
   "mimetype": "text/x-python",
   "name": "python",
   "nbconvert_exporter": "python",
   "pygments_lexer": "ipython3",
   "version": "3.12.4"
  }
 },
 "nbformat": 4,
 "nbformat_minor": 2
}
