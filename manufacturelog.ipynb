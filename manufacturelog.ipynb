{
 "cells": [
  {
   "cell_type": "code",
   "execution_count": 173,
   "metadata": {},
   "outputs": [],
   "source": [
    "def validate_and_extract_log(s):\n",
    "    batch_info = []\n",
    "    i=0\n",
    "    while s != '':\n",
    "        result, i = batches(s)\n",
    "        if result == 'invalid':\n",
    "            return result\n",
    "        batch_info.append(result)\n",
    "        s = s[i:]\n",
    "    return(batch_info)\n",
    "    "
   ]
  },
  {
   "cell_type": "code",
   "execution_count": 190,
   "metadata": {},
   "outputs": [],
   "source": [
    "def batches(s):\n",
    "    batch_id = s[1:5]\n",
    "    product_code = s[6:8]\n",
    "    j = 9\n",
    "    while s[j].isdigit():\n",
    "        j=j+1\n",
    "    quantity = s[9:j]\n",
    "    myquantity = int(quantity)\n",
    "    date = s[j+1:j+9]\n",
    "    non_digits = []\n",
    "    for char in date:\n",
    "        if not char.isdigit():\n",
    "            non_digits.append(char)\n",
    "    if non_digits:\n",
    "        return 'invalid', 'invalid'\n",
    "    else:\n",
    "        date_year = int(s[j+1:j+5])\n",
    "        date_month = int(s[j+5:j+7])\n",
    "        date_day = int(s[j+8:j+9])\n",
    "    if s[0] != 'B' or not batch_id.isdigit() or s[5] != 'P' or \\\n",
    "    not product_code.isupper() or s[6].isdigit() or s[7].isdigit() or s[8] != 'Q' or \\\n",
    "    not s[9].isdigit() or s[j] != 'D' or not \\\n",
    "    2000 <= date_year <= 2099 or not 1 <= date_month <= 12\\\n",
    "    or not 1 <= date_day <= 31:\n",
    "        result = 'invalid'\n",
    "        return result, result\n",
    "    else:\n",
    "        result = {'Batch ID':batch_id, 'Product Code':product_code,'Quantity':myquantity,'Date':date}\n",
    "        return result, j+9"
   ]
  },
  {
   "cell_type": "code",
   "execution_count": 193,
   "metadata": {},
   "outputs": [],
   "source": [
    "final_result = validate_and_extract_log('B1234PABQ50D20991228')"
   ]
  },
  {
   "cell_type": "code",
   "execution_count": 194,
   "metadata": {},
   "outputs": [
    {
     "data": {
      "text/plain": [
       "[{'Batch ID': '1234',\n",
       "  'Product Code': 'AB',\n",
       "  'Quantity': 50,\n",
       "  'Date': '20991228'}]"
      ]
     },
     "execution_count": 194,
     "metadata": {},
     "output_type": "execute_result"
    }
   ],
   "source": [
    "final_result"
   ]
  },
  {
   "cell_type": "code",
   "execution_count": null,
   "metadata": {},
   "outputs": [],
   "source": []
  }
 ],
 "metadata": {
  "kernelspec": {
   "display_name": "venv",
   "language": "python",
   "name": "python3"
  },
  "language_info": {
   "codemirror_mode": {
    "name": "ipython",
    "version": 3
   },
   "file_extension": ".py",
   "mimetype": "text/x-python",
   "name": "python",
   "nbconvert_exporter": "python",
   "pygments_lexer": "ipython3",
   "version": "3.12.4"
  }
 },
 "nbformat": 4,
 "nbformat_minor": 2
}
