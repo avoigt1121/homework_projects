{
 "cells": [
  {
   "cell_type": "code",
   "execution_count": 80,
   "id": "a2644edd",
   "metadata": {},
   "outputs": [],
   "source": [
    "#CS 249 Final Assignment\n",
    "\n",
    "import pandas as pd\n",
    "# need for regression analysis\n",
    "from statsmodels.formula.api import ols\n",
    "\n",
    "# NLP Sentiment Score\n",
    "from nltk.sentiment.vader import SentimentIntensityAnalyzer as stm"
   ]
  },
  {
   "cell_type": "code",
   "execution_count": 81,
   "id": "925f3de2",
   "metadata": {},
   "outputs": [],
   "source": [
    "# 1) a. Load the data from the csv file into a Python Pandas data frame named df\n",
    "# Initially, df should have 1989 rows and 4 columns\n",
    "\n",
    "df = pd.read_csv('/Users/annivoigt/Documents/homework/stockdailyhlnews.csv')"
   ]
  },
  {
   "cell_type": "code",
   "execution_count": 82,
   "id": "10958b45",
   "metadata": {},
   "outputs": [
    {
     "data": {
      "text/html": [
       "<div>\n",
       "<style scoped>\n",
       "    .dataframe tbody tr th:only-of-type {\n",
       "        vertical-align: middle;\n",
       "    }\n",
       "\n",
       "    .dataframe tbody tr th {\n",
       "        vertical-align: top;\n",
       "    }\n",
       "\n",
       "    .dataframe thead th {\n",
       "        text-align: right;\n",
       "    }\n",
       "</style>\n",
       "<table border=\"1\" class=\"dataframe\">\n",
       "  <thead>\n",
       "    <tr style=\"text-align: right;\">\n",
       "      <th></th>\n",
       "      <th>date</th>\n",
       "      <th>sp500</th>\n",
       "      <th>ibm</th>\n",
       "      <th>news</th>\n",
       "    </tr>\n",
       "  </thead>\n",
       "  <tbody>\n",
       "    <tr>\n",
       "      <th>0</th>\n",
       "      <td>8/8/2008</td>\n",
       "      <td>1296.32</td>\n",
       "      <td>87.77</td>\n",
       "      <td>b\"Georgia 'downs two Russian warplanes' as cou...</td>\n",
       "    </tr>\n",
       "    <tr>\n",
       "      <th>1</th>\n",
       "      <td>8/11/2008</td>\n",
       "      <td>1305.32</td>\n",
       "      <td>86.26</td>\n",
       "      <td>b'Why wont America and Nato help us? If they w...</td>\n",
       "    </tr>\n",
       "    <tr>\n",
       "      <th>2</th>\n",
       "      <td>8/12/2008</td>\n",
       "      <td>1289.59</td>\n",
       "      <td>85.32</td>\n",
       "      <td>b'Remember that adorable 9-year-old who sang a...</td>\n",
       "    </tr>\n",
       "    <tr>\n",
       "      <th>3</th>\n",
       "      <td>8/13/2008</td>\n",
       "      <td>1285.83</td>\n",
       "      <td>85.72</td>\n",
       "      <td>b' U.S. refuses Israel weapons to attack Iran:...</td>\n",
       "    </tr>\n",
       "    <tr>\n",
       "      <th>4</th>\n",
       "      <td>8/14/2008</td>\n",
       "      <td>1292.93</td>\n",
       "      <td>86.50</td>\n",
       "      <td>b'All the experts admit that we should legalis...</td>\n",
       "    </tr>\n",
       "    <tr>\n",
       "      <th>...</th>\n",
       "      <td>...</td>\n",
       "      <td>...</td>\n",
       "      <td>...</td>\n",
       "      <td>...</td>\n",
       "    </tr>\n",
       "    <tr>\n",
       "      <th>1984</th>\n",
       "      <td>6/27/2016</td>\n",
       "      <td>2000.54</td>\n",
       "      <td>110.76</td>\n",
       "      <td>Barclays and RBS shares suspended from trading...</td>\n",
       "    </tr>\n",
       "    <tr>\n",
       "      <th>1985</th>\n",
       "      <td>6/28/2016</td>\n",
       "      <td>2036.09</td>\n",
       "      <td>112.46</td>\n",
       "      <td>2,500 Scientists To Australia: If You Want To ...</td>\n",
       "    </tr>\n",
       "    <tr>\n",
       "      <th>1986</th>\n",
       "      <td>6/29/2016</td>\n",
       "      <td>2070.77</td>\n",
       "      <td>114.59</td>\n",
       "      <td>Explosion At Airport In IstanbulYemeni former ...</td>\n",
       "    </tr>\n",
       "    <tr>\n",
       "      <th>1987</th>\n",
       "      <td>6/30/2016</td>\n",
       "      <td>2098.86</td>\n",
       "      <td>117.18</td>\n",
       "      <td>Jamaica proposes marijuana dispensers for tour...</td>\n",
       "    </tr>\n",
       "    <tr>\n",
       "      <th>1988</th>\n",
       "      <td>7/1/2016</td>\n",
       "      <td>2102.95</td>\n",
       "      <td>117.59</td>\n",
       "      <td>A 117-year-old woman in Mexico City finally re...</td>\n",
       "    </tr>\n",
       "  </tbody>\n",
       "</table>\n",
       "<p>1989 rows × 4 columns</p>\n",
       "</div>"
      ],
      "text/plain": [
       "           date    sp500     ibm  \\\n",
       "0      8/8/2008  1296.32   87.77   \n",
       "1     8/11/2008  1305.32   86.26   \n",
       "2     8/12/2008  1289.59   85.32   \n",
       "3     8/13/2008  1285.83   85.72   \n",
       "4     8/14/2008  1292.93   86.50   \n",
       "...         ...      ...     ...   \n",
       "1984  6/27/2016  2000.54  110.76   \n",
       "1985  6/28/2016  2036.09  112.46   \n",
       "1986  6/29/2016  2070.77  114.59   \n",
       "1987  6/30/2016  2098.86  117.18   \n",
       "1988   7/1/2016  2102.95  117.59   \n",
       "\n",
       "                                                   news  \n",
       "0     b\"Georgia 'downs two Russian warplanes' as cou...  \n",
       "1     b'Why wont America and Nato help us? If they w...  \n",
       "2     b'Remember that adorable 9-year-old who sang a...  \n",
       "3     b' U.S. refuses Israel weapons to attack Iran:...  \n",
       "4     b'All the experts admit that we should legalis...  \n",
       "...                                                 ...  \n",
       "1984  Barclays and RBS shares suspended from trading...  \n",
       "1985  2,500 Scientists To Australia: If You Want To ...  \n",
       "1986  Explosion At Airport In IstanbulYemeni former ...  \n",
       "1987  Jamaica proposes marijuana dispensers for tour...  \n",
       "1988  A 117-year-old woman in Mexico City finally re...  \n",
       "\n",
       "[1989 rows x 4 columns]"
      ]
     },
     "execution_count": 82,
     "metadata": {},
     "output_type": "execute_result"
    }
   ],
   "source": [
    "df"
   ]
  },
  {
   "cell_type": "code",
   "execution_count": 83,
   "id": "b9a5abbd",
   "metadata": {},
   "outputs": [],
   "source": [
    "# 1) b. Add a column called sscore to df \n",
    "# i. Fill the sscore column with the ‘compound’ sentiment analysis score based on the daily headline news for each day.\n",
    "import nltk\n",
    "nltk.download('vader_lexicon', quiet=True) \n",
    "analyzer = stm()\n",
    "df['sscore'] = df['news'].apply(lambda text: analyzer.polarity_scores(text)['compound'])\n"
   ]
  },
  {
   "cell_type": "code",
   "execution_count": 84,
   "id": "5c633af8",
   "metadata": {},
   "outputs": [],
   "source": [
    "# 1) b. \n",
    "# ii. Calculate the average (mean) ‘compound’ score for the column sscore and \n",
    "# store this average number in a variable named avgsscore\n",
    "avgsscore = df.sscore.mean()"
   ]
  },
  {
   "cell_type": "code",
   "execution_count": 85,
   "id": "8ddb61ce",
   "metadata": {},
   "outputs": [
    {
     "name": "stdout",
     "output_type": "stream",
     "text": [
      "                            OLS Regression Results                            \n",
      "==============================================================================\n",
      "Dep. Variable:                    ibm   R-squared:                       0.000\n",
      "Model:                            OLS   Adj. R-squared:                 -0.000\n",
      "Method:                 Least Squares   F-statistic:                   0.08077\n",
      "Date:                Tue, 11 Mar 2025   Prob (F-statistic):              0.776\n",
      "Time:                        16:58:39   Log-Likelihood:                -9216.9\n",
      "No. Observations:                1989   AIC:                         1.844e+04\n",
      "Df Residuals:                    1987   BIC:                         1.845e+04\n",
      "Df Model:                           1                                         \n",
      "Covariance Type:            nonrobust                                         \n",
      "==============================================================================\n",
      "                 coef    std err          t      P>|t|      [0.025      0.975]\n",
      "------------------------------------------------------------------------------\n",
      "const        111.8263      0.699    160.034      0.000     110.456     113.197\n",
      "sscore        -0.2864      1.008     -0.284      0.776      -2.263       1.690\n",
      "==============================================================================\n",
      "Omnibus:                      220.527   Durbin-Watson:                   0.003\n",
      "Prob(Omnibus):                  0.000   Jarque-Bera (JB):              151.701\n",
      "Skew:                          -0.565   Prob(JB):                     1.14e-33\n",
      "Kurtosis:                       2.255   Cond. No.                         2.22\n",
      "==============================================================================\n",
      "\n",
      "Notes:\n",
      "[1] Standard Errors assume that the covariance matrix of the errors is correctly specified.\n"
     ]
    }
   ],
   "source": [
    "# 2) Is the IBM stock price influenced by the sentiment compound score and/or s&p 500 index?   \n",
    "# a. Use from statsmodels.formula.api import ols for this linear regression task\n",
    "import statsmodels.api as sm\n",
    "from statsmodels.formula.api import ols\n",
    "\n",
    "\n",
    "X = sm.add_constant(df.sscore)\n",
    "\n",
    "# Perform OLS regression\n",
    "model = sm.OLS(df.ibm, X).fit()\n",
    "print(model.summary())\n",
    "adj_rsquared = []\n",
    "adj_rsquared.append(model.rsquared_adj)\n",
    "f_pvalue = []\n",
    "f_pvalue.append(model.f_pvalue)\n",
    "sscore_pvalue = model.pvalues.sscore\n",
    "#2 Not compound score, according to OLS regression results"
   ]
  },
  {
   "cell_type": "code",
   "execution_count": 86,
   "id": "3cb043fd",
   "metadata": {},
   "outputs": [
    {
     "name": "stdout",
     "output_type": "stream",
     "text": [
      "                            OLS Regression Results                            \n",
      "==============================================================================\n",
      "Dep. Variable:                    ibm   R-squared:                       0.368\n",
      "Model:                            OLS   Adj. R-squared:                  0.368\n",
      "Method:                 Least Squares   F-statistic:                     1158.\n",
      "Date:                Tue, 11 Mar 2025   Prob (F-statistic):          2.54e-200\n",
      "Time:                        16:58:39   Log-Likelihood:                -8760.4\n",
      "No. Observations:                1989   AIC:                         1.752e+04\n",
      "Df Residuals:                    1987   BIC:                         1.754e+04\n",
      "Df Model:                           1                                         \n",
      "Covariance Type:            nonrobust                                         \n",
      "==============================================================================\n",
      "                 coef    std err          t      P>|t|      [0.025      0.975]\n",
      "------------------------------------------------------------------------------\n",
      "const         56.3740      1.693     33.305      0.000      53.054      59.694\n",
      "sp500          0.0372      0.001     34.023      0.000       0.035       0.039\n",
      "==============================================================================\n",
      "Omnibus:                     1311.629   Durbin-Watson:                   0.003\n",
      "Prob(Omnibus):                  0.000   Jarque-Bera (JB):              128.826\n",
      "Skew:                           0.209   Prob(JB):                     1.06e-28\n",
      "Kurtosis:                       1.826   Cond. No.                     5.90e+03\n",
      "==============================================================================\n",
      "\n",
      "Notes:\n",
      "[1] Standard Errors assume that the covariance matrix of the errors is correctly specified.\n",
      "[2] The condition number is large, 5.9e+03. This might indicate that there are\n",
      "strong multicollinearity or other numerical problems.\n"
     ]
    }
   ],
   "source": [
    "X = sm.add_constant(df.sp500)\n",
    "\n",
    "# Perform OLS regression\n",
    "model = sm.OLS(df.ibm, X).fit()\n",
    "print(model.summary())\n",
    "adj_rsquared.append(model.rsquared_adj)\n",
    "f_pvalue.append(model.f_pvalue)\n",
    "sp500_pvalue = model.pvalues.sp500\n",
    "#There is correlation in this model, but it might be because they are not independent values"
   ]
  },
  {
   "cell_type": "code",
   "execution_count": 87,
   "id": "d8a58919",
   "metadata": {},
   "outputs": [
    {
     "data": {
      "text/plain": [
       "[-0.00046260146367016475, 0.36779558103910404]"
      ]
     },
     "execution_count": 87,
     "metadata": {},
     "output_type": "execute_result"
    }
   ],
   "source": [
    "# 2) b. Store adjusted rsquaures in a variable named adj_rsquared\n",
    "adj_rsquared"
   ]
  },
  {
   "cell_type": "code",
   "execution_count": 88,
   "id": "4ae0f809",
   "metadata": {},
   "outputs": [
    {
     "data": {
      "text/plain": [
       "[0.7762814898844885, 2.536776145188363e-200]"
      ]
     },
     "execution_count": 88,
     "metadata": {},
     "output_type": "execute_result"
    }
   ],
   "source": [
    "# 2) c. Store pvalue of f-statistics in a variable named f_pvalue\n",
    "f_pvalue"
   ]
  },
  {
   "cell_type": "code",
   "execution_count": 89,
   "id": "42e504c7",
   "metadata": {},
   "outputs": [
    {
     "data": {
      "text/plain": [
       "0.7762814898798704"
      ]
     },
     "execution_count": 89,
     "metadata": {},
     "output_type": "execute_result"
    }
   ],
   "source": [
    "# 2) d. Store pvalue of sscore in a variable named sscore_pvalue\n",
    "sscore_pvalue"
   ]
  },
  {
   "cell_type": "code",
   "execution_count": 90,
   "id": "c49bdc02",
   "metadata": {},
   "outputs": [
    {
     "data": {
      "text/plain": [
       "2.5367761451866984e-200"
      ]
     },
     "execution_count": 90,
     "metadata": {},
     "output_type": "execute_result"
    }
   ],
   "source": [
    "# 2) e. Store pvalue of sp500 in a variable named sp500_pvalue\n",
    "sp500_pvalue"
   ]
  },
  {
   "cell_type": "code",
   "execution_count": 91,
   "id": "b688b1cd",
   "metadata": {},
   "outputs": [],
   "source": [
    "# 2) f. If a relationship exists between sscore and ibm stock price, \n",
    "# then store a boolean value of True in a variable named sscore_rel; \n",
    "# otherwise, sscore_rel should be set to False\n",
    "if f_pvalue[0] <= 0.05:\n",
    "    sscore_rel = True\n",
    "else: sscore_rel = False"
   ]
  },
  {
   "cell_type": "code",
   "execution_count": 92,
   "id": "2b26d9bc",
   "metadata": {},
   "outputs": [
    {
     "name": "stdout",
     "output_type": "stream",
     "text": [
      "True\n"
     ]
    }
   ],
   "source": [
    "# 2) g. If a relationship exists between s&p 500 index and ibm stock price, \n",
    "# then store a boolean value of True in a variable named sp500_rel;\n",
    "# otherwise, sp500_rel should be set to False  \n",
    "\n",
    "\n",
    "if f_pvalue[1] <= 0.05:\n",
    "    sscore_rel = True\n",
    "else: sscore_rel = False\n",
    "print(sscore_rel)"
   ]
  },
  {
   "cell_type": "code",
   "execution_count": 7,
   "id": "68ed4678",
   "metadata": {},
   "outputs": [],
   "source": [
    "import pandas as pd\n",
    "import scipy.stats as stats\n",
    "islands = [ 10,6,8,1,3,9,1,10,10,4,5,9 ]\n",
    "\n",
    "foods = [ 8,7,8,8,6,10,8,9,9,6,5,8 ]"
   ]
  },
  {
   "cell_type": "code",
   "execution_count": 2,
   "id": "be683706",
   "metadata": {},
   "outputs": [],
   "source": [
    "data = list(zip(islands, foods))"
   ]
  },
  {
   "cell_type": "code",
   "execution_count": 3,
   "id": "e7da18b4",
   "metadata": {},
   "outputs": [],
   "source": [
    "df = pd.DataFrame(data)"
   ]
  },
  {
   "cell_type": "code",
   "execution_count": 4,
   "id": "6d1e2428",
   "metadata": {},
   "outputs": [
    {
     "data": {
      "text/html": [
       "<div>\n",
       "<style scoped>\n",
       "    .dataframe tbody tr th:only-of-type {\n",
       "        vertical-align: middle;\n",
       "    }\n",
       "\n",
       "    .dataframe tbody tr th {\n",
       "        vertical-align: top;\n",
       "    }\n",
       "\n",
       "    .dataframe thead th {\n",
       "        text-align: right;\n",
       "    }\n",
       "</style>\n",
       "<table border=\"1\" class=\"dataframe\">\n",
       "  <thead>\n",
       "    <tr style=\"text-align: right;\">\n",
       "      <th></th>\n",
       "      <th>0</th>\n",
       "      <th>1</th>\n",
       "    </tr>\n",
       "  </thead>\n",
       "  <tbody>\n",
       "    <tr>\n",
       "      <th>0</th>\n",
       "      <td>10</td>\n",
       "      <td>8</td>\n",
       "    </tr>\n",
       "    <tr>\n",
       "      <th>1</th>\n",
       "      <td>6</td>\n",
       "      <td>7</td>\n",
       "    </tr>\n",
       "    <tr>\n",
       "      <th>2</th>\n",
       "      <td>8</td>\n",
       "      <td>8</td>\n",
       "    </tr>\n",
       "    <tr>\n",
       "      <th>3</th>\n",
       "      <td>1</td>\n",
       "      <td>8</td>\n",
       "    </tr>\n",
       "    <tr>\n",
       "      <th>4</th>\n",
       "      <td>3</td>\n",
       "      <td>6</td>\n",
       "    </tr>\n",
       "    <tr>\n",
       "      <th>5</th>\n",
       "      <td>9</td>\n",
       "      <td>10</td>\n",
       "    </tr>\n",
       "    <tr>\n",
       "      <th>6</th>\n",
       "      <td>1</td>\n",
       "      <td>8</td>\n",
       "    </tr>\n",
       "    <tr>\n",
       "      <th>7</th>\n",
       "      <td>10</td>\n",
       "      <td>9</td>\n",
       "    </tr>\n",
       "    <tr>\n",
       "      <th>8</th>\n",
       "      <td>10</td>\n",
       "      <td>9</td>\n",
       "    </tr>\n",
       "    <tr>\n",
       "      <th>9</th>\n",
       "      <td>4</td>\n",
       "      <td>6</td>\n",
       "    </tr>\n",
       "    <tr>\n",
       "      <th>10</th>\n",
       "      <td>5</td>\n",
       "      <td>5</td>\n",
       "    </tr>\n",
       "    <tr>\n",
       "      <th>11</th>\n",
       "      <td>9</td>\n",
       "      <td>8</td>\n",
       "    </tr>\n",
       "  </tbody>\n",
       "</table>\n",
       "</div>"
      ],
      "text/plain": [
       "     0   1\n",
       "0   10   8\n",
       "1    6   7\n",
       "2    8   8\n",
       "3    1   8\n",
       "4    3   6\n",
       "5    9  10\n",
       "6    1   8\n",
       "7   10   9\n",
       "8   10   9\n",
       "9    4   6\n",
       "10   5   5\n",
       "11   9   8"
      ]
     },
     "execution_count": 4,
     "metadata": {},
     "output_type": "execute_result"
    }
   ],
   "source": [
    "df"
   ]
  },
  {
   "cell_type": "code",
   "execution_count": 11,
   "id": "0fba8466",
   "metadata": {},
   "outputs": [
    {
     "name": "stdout",
     "output_type": "stream",
     "text": [
      "There is no significant difference between the two groups.\n",
      "-1.2291174125094426\n"
     ]
    }
   ],
   "source": [
    "import scipy.stats as stats\n",
    "islands = df[0]\n",
    "foods = df[1] \n",
    "#np_array = np.array([condition_ios, condition_andriod])\n",
    "t_statistic, p_value = stats.ttest_ind(islands, foods, alternative = 'greater')\n",
    "if p_value > 0.05:\n",
    "    difference = 'NO'\n",
    "else : difference = 'YES'\n",
    "\n",
    "if p_value < 0.05:\n",
    "    print(\"There is a significant difference between the two groups.\")\n",
    "else:\n",
    "    print(\"There is no significant difference between the two groups.\")\n",
    "\n",
    "print(t_statistic)\n"
   ]
  },
  {
   "cell_type": "code",
   "execution_count": null,
   "id": "4a6330e2",
   "metadata": {},
   "outputs": [],
   "source": []
  }
 ],
 "metadata": {
  "kernelspec": {
   "display_name": "Python 3 (ipykernel)",
   "language": "python",
   "name": "python3"
  },
  "language_info": {
   "codemirror_mode": {
    "name": "ipython",
    "version": 3
   },
   "file_extension": ".py",
   "mimetype": "text/x-python",
   "name": "python",
   "nbconvert_exporter": "python",
   "pygments_lexer": "ipython3",
   "version": "3.12.4"
  }
 },
 "nbformat": 4,
 "nbformat_minor": 5
}
