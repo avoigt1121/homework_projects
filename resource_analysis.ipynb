{
 "cells": [
  {
   "cell_type": "code",
   "execution_count": 2,
   "metadata": {},
   "outputs": [],
   "source": [
    "import pandas as pd"
   ]
  },
  {
   "cell_type": "code",
   "execution_count": 3,
   "metadata": {},
   "outputs": [],
   "source": [
    "df_disk = pd.read_csv('disk.csv', usecols= ['Image','PID','Total Byte Per Second'])\n",
    "df_cpu = pd.read_csv('cpu.csv', usecols = ['Image','PID','Description','Status','Threads','Average CPU'])\n",
    "df_memory = pd.read_csv('memory.csv', usecols = ['Image','PID','Working Set KB'])"
   ]
  },
  {
   "cell_type": "code",
   "execution_count": 4,
   "metadata": {},
   "outputs": [],
   "source": [
    "def CleanColumnHeading(dfx):\n",
    "    dfx.rename(columns = {cols : cols.replace(' ', '_').lower() for cols in dfx.columns},inplace= 'True')\n",
    "    return dfx\n",
    "\n",
    "df_disk = CleanColumnHeading(df_disk)\n",
    "df_cpu = CleanColumnHeading(df_cpu)\n",
    "df_memory = CleanColumnHeading(df_memory)\n",
    "\n",
    "df_disk.head()\n",
    "df_cpu.head()\n",
    "df_memory.head()\n",
    "\n",
    "if 'threads' in df_memory.columns :\n",
    "        print('ya')"
   ]
  },
  {
   "cell_type": "code",
   "execution_count": 49,
   "metadata": {},
   "outputs": [
    {
     "data": {
      "text/plain": [
       "'5678'"
      ]
     },
     "execution_count": 49,
     "metadata": {},
     "output_type": "execute_result"
    }
   ],
   "source": [
    "card = \"XXXX-XXXX-XXXX-5678\"\n",
    "card[-4:]"
   ]
  },
  {
   "cell_type": "code",
   "execution_count": 5,
   "metadata": {},
   "outputs": [],
   "source": [
    "def aggregate_data(dfx):\n",
    "    if 'total_byte_per_second' in dfx.columns :\n",
    "        dfx =  dfx.groupby(by = 'image').agg(total_byte_sum = ('total_byte_per_second', 'sum'),\n",
    "                                            process_qty = ('total_byte_per_second', 'count')).reset_index()\n",
    "    elif 'threads' in dfx.columns:\n",
    "        dfx =  dfx.groupby(by = 'image').agg(threads_sum = ('threads', 'sum'),\n",
    "                                            process_qty = ('threads', 'count')).reset_index()\n",
    "    elif 'working_set_kb' in dfx.columns:\n",
    "        dfx['working_set_kb'] = dfx['working_set_kb'].str.replace(',', '').astype(int)\n",
    "        dfx =  dfx.groupby(by = 'image').agg(working_set_sum = ('working_set_kb', 'sum'),\n",
    "                                            process_qty = ('working_set_kb', 'count')).reset_index()\n",
    "    \n",
    "    return dfx\n",
    "    "
   ]
  },
  {
   "cell_type": "code",
   "execution_count": 6,
   "metadata": {},
   "outputs": [],
   "source": [
    "df_cpu = aggregate_data(df_cpu)\n",
    "df_disk = aggregate_data(df_disk)\n",
    "df_memory = aggregate_data(df_memory)"
   ]
  },
  {
   "cell_type": "code",
   "execution_count": 45,
   "metadata": {},
   "outputs": [],
   "source": [
    "df_new = pd.merge(df_cpu, df_disk)\n",
    "df_new = pd.merge(df_new, df_memory)\n",
    "df_new.threads_sum = df_new.threads_sum.str.replace(',','').astype(int)\n",
    "df_new.total_byte_sum = df_new.total_byte_sum.str.replace(',','').astype(int)\n",
    "high_memory_image = df_new[df_new['working_set_sum'] > 200000]\n",
    "high_thread_image = df_new[df_new['threads_sum'] > 200]"
   ]
  },
  {
   "cell_type": "code",
   "execution_count": 46,
   "metadata": {},
   "outputs": [],
   "source": [
    "\n",
    "hilo_filter = (df_new['working_set_sum'] > 200000) & (df_new['threads_sum'] < 50) & (df_new['total_byte_sum'] < 7000)\n",
    "hi_mem_low_thread_low_io = df_new[hilo_filter]\n"
   ]
  },
  {
   "cell_type": "code",
   "execution_count": 61,
   "metadata": {},
   "outputs": [],
   "source": [
    "import pandas as pd\n",
    "dayofweek = [ 'Mon', 'Tue', 'Wed', 'Thu', 'Fri', 'Mon', 'Tue', 'Wed', 'Thu', 'Fri','Mon', 'Tue', 'Wed', 'Thu', 'Fri' ]\n",
    "revenue = [ 1000.87, 2344.67, 2050.56, 1890.53, 677.54, 1120.91, 1949.98, 1989.88, 2380.50, 1237.89, 1560.88, 1934.76, 1950.14, 2090.45, 991.54 ]\n",
    "tables = [ 25, 43, 38, 30, 16, 30, 29, 32, 31, 28, 30, 29, 39, 40, 23 ]"
   ]
  },
  {
   "cell_type": "code",
   "execution_count": 65,
   "metadata": {},
   "outputs": [],
   "source": [
    "combined = list(zip(dayofweek, revenue, tables))"
   ]
  },
  {
   "cell_type": "code",
   "execution_count": 66,
   "metadata": {},
   "outputs": [
    {
     "data": {
      "text/plain": [
       "[('Mon', 1000.87, 25),\n",
       " ('Tue', 2344.67, 43),\n",
       " ('Wed', 2050.56, 38),\n",
       " ('Thu', 1890.53, 30),\n",
       " ('Fri', 677.54, 16),\n",
       " ('Mon', 1120.91, 30),\n",
       " ('Tue', 1949.98, 29),\n",
       " ('Wed', 1989.88, 32),\n",
       " ('Thu', 2380.5, 31),\n",
       " ('Fri', 1237.89, 28),\n",
       " ('Mon', 1560.88, 30),\n",
       " ('Tue', 1934.76, 29),\n",
       " ('Wed', 1950.14, 39),\n",
       " ('Thu', 2090.45, 40),\n",
       " ('Fri', 991.54, 23)]"
      ]
     },
     "execution_count": 66,
     "metadata": {},
     "output_type": "execute_result"
    }
   ],
   "source": [
    "combined"
   ]
  },
  {
   "cell_type": "code",
   "execution_count": 82,
   "metadata": {},
   "outputs": [],
   "source": [
    "df = pd.DataFrame(combined, columns = ['dayofweek', 'revenue', 'tables'])"
   ]
  },
  {
   "cell_type": "code",
   "execution_count": 83,
   "metadata": {},
   "outputs": [
    {
     "data": {
      "text/html": [
       "<div>\n",
       "<style scoped>\n",
       "    .dataframe tbody tr th:only-of-type {\n",
       "        vertical-align: middle;\n",
       "    }\n",
       "\n",
       "    .dataframe tbody tr th {\n",
       "        vertical-align: top;\n",
       "    }\n",
       "\n",
       "    .dataframe thead th {\n",
       "        text-align: right;\n",
       "    }\n",
       "</style>\n",
       "<table border=\"1\" class=\"dataframe\">\n",
       "  <thead>\n",
       "    <tr style=\"text-align: right;\">\n",
       "      <th></th>\n",
       "      <th>dayofweek</th>\n",
       "      <th>revenue</th>\n",
       "      <th>tables</th>\n",
       "    </tr>\n",
       "  </thead>\n",
       "  <tbody>\n",
       "    <tr>\n",
       "      <th>0</th>\n",
       "      <td>Mon</td>\n",
       "      <td>1000.87</td>\n",
       "      <td>25</td>\n",
       "    </tr>\n",
       "    <tr>\n",
       "      <th>1</th>\n",
       "      <td>Tue</td>\n",
       "      <td>2344.67</td>\n",
       "      <td>43</td>\n",
       "    </tr>\n",
       "    <tr>\n",
       "      <th>2</th>\n",
       "      <td>Wed</td>\n",
       "      <td>2050.56</td>\n",
       "      <td>38</td>\n",
       "    </tr>\n",
       "    <tr>\n",
       "      <th>3</th>\n",
       "      <td>Thu</td>\n",
       "      <td>1890.53</td>\n",
       "      <td>30</td>\n",
       "    </tr>\n",
       "    <tr>\n",
       "      <th>4</th>\n",
       "      <td>Fri</td>\n",
       "      <td>677.54</td>\n",
       "      <td>16</td>\n",
       "    </tr>\n",
       "    <tr>\n",
       "      <th>5</th>\n",
       "      <td>Mon</td>\n",
       "      <td>1120.91</td>\n",
       "      <td>30</td>\n",
       "    </tr>\n",
       "    <tr>\n",
       "      <th>6</th>\n",
       "      <td>Tue</td>\n",
       "      <td>1949.98</td>\n",
       "      <td>29</td>\n",
       "    </tr>\n",
       "    <tr>\n",
       "      <th>7</th>\n",
       "      <td>Wed</td>\n",
       "      <td>1989.88</td>\n",
       "      <td>32</td>\n",
       "    </tr>\n",
       "    <tr>\n",
       "      <th>8</th>\n",
       "      <td>Thu</td>\n",
       "      <td>2380.50</td>\n",
       "      <td>31</td>\n",
       "    </tr>\n",
       "    <tr>\n",
       "      <th>9</th>\n",
       "      <td>Fri</td>\n",
       "      <td>1237.89</td>\n",
       "      <td>28</td>\n",
       "    </tr>\n",
       "    <tr>\n",
       "      <th>10</th>\n",
       "      <td>Mon</td>\n",
       "      <td>1560.88</td>\n",
       "      <td>30</td>\n",
       "    </tr>\n",
       "    <tr>\n",
       "      <th>11</th>\n",
       "      <td>Tue</td>\n",
       "      <td>1934.76</td>\n",
       "      <td>29</td>\n",
       "    </tr>\n",
       "    <tr>\n",
       "      <th>12</th>\n",
       "      <td>Wed</td>\n",
       "      <td>1950.14</td>\n",
       "      <td>39</td>\n",
       "    </tr>\n",
       "    <tr>\n",
       "      <th>13</th>\n",
       "      <td>Thu</td>\n",
       "      <td>2090.45</td>\n",
       "      <td>40</td>\n",
       "    </tr>\n",
       "    <tr>\n",
       "      <th>14</th>\n",
       "      <td>Fri</td>\n",
       "      <td>991.54</td>\n",
       "      <td>23</td>\n",
       "    </tr>\n",
       "  </tbody>\n",
       "</table>\n",
       "</div>"
      ],
      "text/plain": [
       "   dayofweek  revenue  tables\n",
       "0        Mon  1000.87      25\n",
       "1        Tue  2344.67      43\n",
       "2        Wed  2050.56      38\n",
       "3        Thu  1890.53      30\n",
       "4        Fri   677.54      16\n",
       "5        Mon  1120.91      30\n",
       "6        Tue  1949.98      29\n",
       "7        Wed  1989.88      32\n",
       "8        Thu  2380.50      31\n",
       "9        Fri  1237.89      28\n",
       "10       Mon  1560.88      30\n",
       "11       Tue  1934.76      29\n",
       "12       Wed  1950.14      39\n",
       "13       Thu  2090.45      40\n",
       "14       Fri   991.54      23"
      ]
     },
     "execution_count": 83,
     "metadata": {},
     "output_type": "execute_result"
    }
   ],
   "source": [
    "df"
   ]
  },
  {
   "cell_type": "code",
   "execution_count": 70,
   "metadata": {},
   "outputs": [],
   "source": [
    "\n",
    "\n",
    "\n",
    "df['dif'] = abs(df['revenue']-df['tables'])"
   ]
  },
  {
   "cell_type": "code",
   "execution_count": 72,
   "metadata": {},
   "outputs": [
    {
     "data": {
      "text/plain": [
       "2349.5"
      ]
     },
     "execution_count": 72,
     "metadata": {},
     "output_type": "execute_result"
    }
   ],
   "source": [
    "df['dif'].max()"
   ]
  },
  {
   "cell_type": "code",
   "execution_count": 75,
   "metadata": {},
   "outputs": [],
   "source": [
    "df = df[df.dif == df.dif.max()]"
   ]
  },
  {
   "cell_type": "code",
   "execution_count": 81,
   "metadata": {},
   "outputs": [
    {
     "data": {
      "text/plain": [
       "8    Thu\n",
       "Name: dayofweek, dtype: object"
      ]
     },
     "execution_count": 81,
     "metadata": {},
     "output_type": "execute_result"
    }
   ],
   "source": [
    "df.dayofweek"
   ]
  },
  {
   "cell_type": "code",
   "execution_count": 84,
   "metadata": {},
   "outputs": [
    {
     "name": "stdout",
     "output_type": "stream",
     "text": [
      "0     Mon\n",
      "1     Tue\n",
      "2     Wed\n",
      "3     Thu\n",
      "4     Fri\n",
      "5     Mon\n",
      "6     Tue\n",
      "7     Wed\n",
      "8     Thu\n",
      "9     Fri\n",
      "10    Mon\n",
      "11    Tue\n",
      "12    Wed\n",
      "13    Thu\n",
      "14    Fri\n",
      "Name: dayofweek, dtype: object\n",
      "0     Mon\n",
      "1     Tue\n",
      "2     Wed\n",
      "3     Thu\n",
      "4     Fri\n",
      "5     Mon\n",
      "6     Tue\n",
      "7     Wed\n",
      "8     Thu\n",
      "9     Fri\n",
      "10    Mon\n",
      "11    Tue\n",
      "12    Wed\n",
      "13    Thu\n",
      "14    Fri\n",
      "Name: dayofweek, dtype: object\n",
      "0     Mon\n",
      "1     Tue\n",
      "2     Wed\n",
      "3     Thu\n",
      "4     Fri\n",
      "5     Mon\n",
      "6     Tue\n",
      "7     Wed\n",
      "8     Thu\n",
      "9     Fri\n",
      "10    Mon\n",
      "11    Tue\n",
      "12    Wed\n",
      "13    Thu\n",
      "14    Fri\n",
      "Name: dayofweek, dtype: object\n"
     ]
    }
   ],
   "source": [
    "for row in df:\n",
    "    print(df.dayofweek)"
   ]
  },
  {
   "cell_type": "code",
   "execution_count": null,
   "metadata": {},
   "outputs": [],
   "source": []
  }
 ],
 "metadata": {
  "kernelspec": {
   "display_name": "Python 3",
   "language": "python",
   "name": "python3"
  },
  "language_info": {
   "codemirror_mode": {
    "name": "ipython",
    "version": 3
   },
   "file_extension": ".py",
   "mimetype": "text/x-python",
   "name": "python",
   "nbconvert_exporter": "python",
   "pygments_lexer": "ipython3",
   "version": "3.12.4"
  }
 },
 "nbformat": 4,
 "nbformat_minor": 2
}
